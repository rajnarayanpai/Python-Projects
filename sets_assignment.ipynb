{
 "cells": [
  {
   "cell_type": "markdown",
   "metadata": {},
   "source": [
    "# Module 3: Data Structures Assignments\n",
    "## Lesson 3.3: Sets\n",
    "### \n",
    "\n",
    "### \n",
    "\n",
    "###\n",
    "\n",
    "### \n",
    "\n",
    "### \n",
    "\n",
    "### \n",
    "\n",
    "### \n",
    "\n",
    "### \n",
    "\n",
    "### \n",
    "\n",
    "### \n",
    "\n",
    "### \n",
    "\n",
    "### \n",
    "\n",
    "### \n",
    "\n",
    "### \n",
    "\n",
    "### "
   ]
  },
  {
   "cell_type": "markdown",
   "id": "c94be40f",
   "metadata": {},
   "source": [
    "Assignment 1: Creating and Accessing Sets\n",
    "\n",
    "Create a set with the first 10 positive integers. Print the set."
   ]
  },
  {
   "cell_type": "code",
   "execution_count": 4,
   "metadata": {},
   "outputs": [
    {
     "name": "stdout",
     "output_type": "stream",
     "text": [
      "{1, 2, 3, 4, 5, 6, 7, 8, 9, 10}\n"
     ]
    }
   ],
   "source": [
    "number_set={1,2,3,4,5,6,7,8,9,10}\n",
    "\n",
    "\n",
    "print(number_set)\n"
   ]
  },
  {
   "cell_type": "markdown",
   "id": "8f0d66f8",
   "metadata": {},
   "source": [
    "Assignment 2: Adding and Removing Elements\n",
    "\n",
    "Add the number 11 to the set created in Assignment 1. Then remove the number 1 from the set. Print the modified set."
   ]
  },
  {
   "cell_type": "code",
   "execution_count": 5,
   "id": "88dfc9db",
   "metadata": {},
   "outputs": [
    {
     "name": "stdout",
     "output_type": "stream",
     "text": [
      "{2, 3, 4, 5, 6, 7, 8, 9, 10, 11}\n"
     ]
    }
   ],
   "source": [
    "number_set.add(11)\n",
    "number_set.remove(1)\n",
    "\n",
    "print(number_set)"
   ]
  },
  {
   "cell_type": "markdown",
   "id": "16001647",
   "metadata": {},
   "source": [
    " Assignment 3: Set Operations\n",
    "\n",
    "Create two sets: one with the first 5 positive integers and another with the first 5 even integers. Perform and print the results of union, intersection, difference, and symmetric difference operations on these sets."
   ]
  },
  {
   "cell_type": "code",
   "execution_count": 6,
   "id": "b6842876",
   "metadata": {},
   "outputs": [
    {
     "name": "stdout",
     "output_type": "stream",
     "text": [
      "{1, 2, 3, 4, 5, 6, 8, 10}\n",
      "{2, 4}\n",
      "{1, 3, 5}\n",
      "{1, 3, 5, 6, 8, 10}\n"
     ]
    }
   ],
   "source": [
    "set1={1,2,3,4,5}\n",
    "set2={2,4,6,8,10}\n",
    "\n",
    "union=set1.union(set2)\n",
    "intersect=set1.intersection(set2)\n",
    "diff=set1.difference(set2)\n",
    "sym_diff=set1.symmetric_difference(set2)\n",
    "\n",
    "print(union)\n",
    "print(intersect)\n",
    "print(diff)\n",
    "print(sym_diff)"
   ]
  },
  {
   "cell_type": "markdown",
   "id": "4d31fa45",
   "metadata": {},
   "source": [
    "Assignment 4: Set Comprehensions\n",
    "\n",
    "Create a new set containing the squares of the first 10 positive integers using a set comprehension. Print the new set."
   ]
  },
  {
   "cell_type": "code",
   "execution_count": 14,
   "id": "0052ba5b",
   "metadata": {},
   "outputs": [
    {
     "name": "stdout",
     "output_type": "stream",
     "text": [
      "{64, 1, 4, 36, 100, 9, 16, 49, 81, 25}\n"
     ]
    }
   ],
   "source": [
    "set_comp={x**2 for x in range(1,11)}\n",
    "\n",
    "print(set_comp)"
   ]
  },
  {
   "cell_type": "markdown",
   "id": "7b9c48bf",
   "metadata": {},
   "source": [
    "Assignment 5: Filtering Sets\n",
    "\n",
    "Create a new set containing only the even numbers from the set created in Assignment 1 using a set comprehension. Print the new set."
   ]
  },
  {
   "cell_type": "code",
   "execution_count": 13,
   "id": "708afe14",
   "metadata": {},
   "outputs": [
    {
     "name": "stdout",
     "output_type": "stream",
     "text": [
      "{2, 4, 6, 8, 10}\n"
     ]
    }
   ],
   "source": [
    "even_set={x for x in number_set if x%2==0}\n",
    "\n",
    "\n",
    "print(even_set)\n"
   ]
  },
  {
   "cell_type": "markdown",
   "id": "224efd88",
   "metadata": {},
   "source": [
    "Assignment 6: Set Methods\n",
    "\n",
    "Create a set with duplicate elements and remove the duplicates using set methods. Print the modified set."
   ]
  },
  {
   "cell_type": "code",
   "execution_count": 15,
   "id": "42ac1d17",
   "metadata": {},
   "outputs": [
    {
     "name": "stdout",
     "output_type": "stream",
     "text": [
      "{2, 3, 4, 5, 6, 7, 8, 9}\n"
     ]
    }
   ],
   "source": [
    "dupe_set={2,4,6,3,6,4,5,7,5,8,9}\n",
    "\n",
    "dupe_set2=dupe_set.copy()\n",
    "\n",
    "print(dupe_set2)"
   ]
  },
  {
   "cell_type": "markdown",
   "id": "3b487972",
   "metadata": {},
   "source": [
    "Assignment 7: Subsets and Supersets\n",
    "\n",
    "Create two sets: one with the first 5 positive integers and another with the first 3 positive integers. Check if the second set is a subset of the first set and if the first set is a superset of the second set. Print the results."
   ]
  },
  {
   "cell_type": "code",
   "execution_count": 17,
   "id": "fa97da9f",
   "metadata": {},
   "outputs": [
    {
     "name": "stdout",
     "output_type": "stream",
     "text": [
      "first superset to second:  True\n",
      "second subset to first:  True\n"
     ]
    }
   ],
   "source": [
    "first_set={1,2,3,4,5}\n",
    "second_set={1,2,3}\n",
    "\n",
    "print(\"first superset to second: \",first_set.issuperset(second_set))\n",
    "print(\"second subset to first: \", second_set.issubset(first_set))"
   ]
  },
  {
   "cell_type": "markdown",
   "id": "7da6d128",
   "metadata": {},
   "source": [
    "Assignment 8: Frozenset\n",
    "\n",
    "Create a frozenset with the first 5 positive integers. Print the frozenset."
   ]
  },
  {
   "cell_type": "code",
   "execution_count": 18,
   "id": "ab5cd6f6",
   "metadata": {},
   "outputs": [
    {
     "name": "stdout",
     "output_type": "stream",
     "text": [
      "Frozenset:  frozenset({1, 2, 3, 4, 5})\n"
     ]
    }
   ],
   "source": [
    "frozen={1,2,3,4,5}\n",
    "\n",
    "new_frozenset=frozenset(frozen)\n",
    "\n",
    "print(\"Frozenset: \",new_frozenset)"
   ]
  },
  {
   "cell_type": "markdown",
   "id": "3e8cad6e",
   "metadata": {},
   "source": [
    "Assignment 9: Set and List Conversion\n",
    "\n",
    "Create a set with the first 5 positive integers. Convert it to a list, append the number 6, and convert it back to a set. Print the resulting set."
   ]
  },
  {
   "cell_type": "code",
   "execution_count": 19,
   "id": "26ed392b",
   "metadata": {},
   "outputs": [
    {
     "name": "stdout",
     "output_type": "stream",
     "text": [
      "{1, 2, 3, 4, 5, 6}\n"
     ]
    }
   ],
   "source": [
    "##set creation\n",
    "new_set={1,2,3,4,5}\n",
    "\n",
    "##convert to list and append\n",
    "set_to_list=list(new_set)\n",
    "set_to_list.append(6)\n",
    "\n",
    "##convert to set again\n",
    "final_set=set(set_to_list)\n",
    "print(final_set)"
   ]
  },
  {
   "cell_type": "markdown",
   "id": "a619eab4",
   "metadata": {},
   "source": [
    "Assignment 10: Set and Dictionary\n",
    "\n",
    "Create a dictionary with set keys and integer values. Print the dictionary."
   ]
  },
  {
   "cell_type": "code",
   "execution_count": 23,
   "id": "f9360f4c",
   "metadata": {},
   "outputs": [
    {
     "name": "stdout",
     "output_type": "stream",
     "text": [
      "{frozenset({1, 2}): 45, frozenset({3, 4}): 55}\n"
     ]
    }
   ],
   "source": [
    "my_dict={frozenset([1,2]): 45 , frozenset([3,4]): 55}\n",
    "\n",
    "print(my_dict)"
   ]
  },
  {
   "cell_type": "markdown",
   "id": "563cd10b",
   "metadata": {},
   "source": [
    "Assignment 11: Iterating Over Sets\n",
    "\n",
    "Create a set and iterate over the elements, printing each element."
   ]
  },
  {
   "cell_type": "code",
   "execution_count": 25,
   "id": "a029d736",
   "metadata": {},
   "outputs": [
    {
     "name": "stdout",
     "output_type": "stream",
     "text": [
      "1\n",
      "2\n",
      "3\n",
      "4\n",
      "5\n",
      "6\n",
      "7\n",
      "8\n",
      "9\n",
      "10\n"
     ]
    }
   ],
   "source": [
    "iterating_set={1,2,2,3,4,5,6,7,8,9,10}\n",
    "\n",
    "for number in iterating_set:\n",
    "    print(number)\n",
    "\n"
   ]
  },
  {
   "cell_type": "markdown",
   "id": "948cb79b",
   "metadata": {},
   "source": [
    "Assignment 12: Removing Elements from Sets\n",
    "\n",
    "Create a set and remove elements from it until it is empty. Print the set after each removal."
   ]
  },
  {
   "cell_type": "code",
   "execution_count": 27,
   "id": "f5757853",
   "metadata": {},
   "outputs": [
    {
     "name": "stdout",
     "output_type": "stream",
     "text": [
      "after removal: {2, 3, 4, 5, 6, 7, 8, 9, 10, 11, 12}\n",
      "after removal: {3, 4, 5, 6, 7, 8, 9, 10, 11, 12}\n",
      "after removal: {4, 5, 6, 7, 8, 9, 10, 11, 12}\n",
      "after removal: {5, 6, 7, 8, 9, 10, 11, 12}\n",
      "after removal: {6, 7, 8, 9, 10, 11, 12}\n",
      "after removal: {7, 8, 9, 10, 11, 12}\n",
      "after removal: {8, 9, 10, 11, 12}\n",
      "after removal: {9, 10, 11, 12}\n",
      "after removal: {10, 11, 12}\n",
      "after removal: {11, 12}\n",
      "after removal: {12}\n",
      "after removal: set()\n",
      "set()\n"
     ]
    }
   ],
   "source": [
    "set_for_removal={1,2,3,4,5,6,7,8,9,10,11,12}\n",
    "\n",
    "while set_for_removal:\n",
    "    set_for_removal.pop()\n",
    "\n",
    "    print(f\"after removal: {set_for_removal}\")\n",
    "\n",
    "print(set_for_removal)"
   ]
  },
  {
   "cell_type": "markdown",
   "id": "63c83a84",
   "metadata": {},
   "source": [
    "Assignment 13: Set Symmetric Difference Update\n",
    "\n",
    "Create two sets and update the first set with the symmetric difference of the two sets. Print the modified first set."
   ]
  },
  {
   "cell_type": "code",
   "execution_count": 32,
   "id": "db0d5bc8",
   "metadata": {},
   "outputs": [
    {
     "name": "stdout",
     "output_type": "stream",
     "text": [
      "{1, 2, 6, 7}\n",
      "{1, 2, 3, 4, 5, 6, 7}\n"
     ]
    }
   ],
   "source": [
    "set1={1,2,3,4,5}\n",
    "set2={3,4,5,6,7}\n",
    "\n",
    "new_set=set1.symmetric_difference(set2)\n",
    "\n",
    "print(new_set)\n",
    "\n",
    "final_set=set1.union(new_set)\n",
    "\n",
    "print(final_set)"
   ]
  },
  {
   "cell_type": "markdown",
   "id": "4ef482a4",
   "metadata": {},
   "source": [
    "Assignment 14: Set Membership Testing\n",
    "\n",
    "Create a set and test if certain elements are present in the set. Print the results."
   ]
  },
  {
   "cell_type": "code",
   "execution_count": 33,
   "id": "c856b4ec",
   "metadata": {},
   "outputs": [
    {
     "name": "stdout",
     "output_type": "stream",
     "text": [
      "Element is there\n"
     ]
    }
   ],
   "source": [
    "set_test={1,2,3,4,5,6,7,8,9,10,11,12,13,14,15}\n",
    "\n",
    "element=int(input(\"Enter the element\"))\n",
    "\n",
    "if set_test.__contains__(element):\n",
    "    print(\"Element is there\")\n",
    "else:\n",
    "    print(\"the element is not there\")"
   ]
  },
  {
   "cell_type": "markdown",
   "id": "c78c15ac",
   "metadata": {},
   "source": [
    "Assignment 15: Set of Tuples\n",
    "\n",
    "Create a set containing tuples, where each tuple contains two elements. Print the set."
   ]
  },
  {
   "cell_type": "code",
   "execution_count": 34,
   "id": "7eb91621",
   "metadata": {},
   "outputs": [
    {
     "name": "stdout",
     "output_type": "stream",
     "text": [
      "{(1, 2), (3, 4), (5, 6)}\n"
     ]
    }
   ],
   "source": [
    "tuple_set={(1,2),(3,4),(5,6)}\n",
    "\n",
    "print(tuple_set)"
   ]
  }
 ],
 "metadata": {
  "kernelspec": {
   "display_name": "Python 3",
   "language": "python",
   "name": "python3"
  },
  "language_info": {
   "codemirror_mode": {
    "name": "ipython",
    "version": 3
   },
   "file_extension": ".py",
   "mimetype": "text/x-python",
   "name": "python",
   "nbconvert_exporter": "python",
   "pygments_lexer": "ipython3",
   "version": "3.10.18"
  }
 },
 "nbformat": 4,
 "nbformat_minor": 5
}
